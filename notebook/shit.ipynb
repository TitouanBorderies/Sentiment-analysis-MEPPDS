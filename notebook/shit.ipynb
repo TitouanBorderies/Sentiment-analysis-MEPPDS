{
 "cells": [
  {
   "cell_type": "code",
   "execution_count": null,
   "id": "4d720c84",
   "metadata": {},
   "outputs": [],
   "source": [
    "# # Load train CSV from SSPCloud S3\n",
    "# s3 = fs.S3FileSystem(\n",
    "#     endpoint_override=\"https://s3.lab.sspcloud.fr\"\n",
    "# )\n",
    "\n",
    "\n",
    "# csv_path = \"titouanborderies/ensae-reproductibilite/data/raw/twitter_training.csv\"\n",
    "# with s3.open_input_file(csv_path) as f:\n",
    "#     df = pd.read_csv(f)"
   ]
  },
  {
   "cell_type": "code",
   "execution_count": null,
   "id": "f8021878",
   "metadata": {},
   "outputs": [],
   "source": [
    "# print(\"Data sample:\")\n",
    "# print(df.head())\n",
    "\n",
    "# # Rename columns if needed\n",
    "# df.columns = ['sentiment', 'tweet_id', 'entity', 'text']  # adapt if your columns are different\n",
    "# df = df[['text', 'sentiment']]  # keep only relevant columns\n",
    "# df = df[df['sentiment'].isin(['Positive', 'Negative'])]  # binary classification\n",
    "# df['label'] = df['sentiment'].map({'Negative': 0, 'Positive': 1})\n",
    "\n",
    "# # Load model & tokenizer from MinIO\n",
    "# fs_minio = s3fs.S3FileSystem(\n",
    "#     client_kwargs={\"endpoint_url\": \"https://minio.lab.sspcloud.fr\"},\n",
    "#     anon=True\n",
    "# )"
   ]
  }
 ],
 "metadata": {
  "language_info": {
   "name": "python"
  }
 },
 "nbformat": 4,
 "nbformat_minor": 5
}
