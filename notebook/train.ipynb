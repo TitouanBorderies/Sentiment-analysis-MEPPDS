{
 "cells": [
  {
   "cell_type": "code",
   "execution_count": 1,
   "id": "c7acadcb",
   "metadata": {},
   "outputs": [
    {
     "name": "stderr",
     "output_type": "stream",
     "text": [
      "/opt/conda/envs/sentiment/lib/python3.11/site-packages/tqdm/auto.py:21: TqdmWarning: IProgress not found. Please update jupyter and ipywidgets. See https://ipywidgets.readthedocs.io/en/stable/user_install.html\n",
      "  from .autonotebook import tqdm as notebook_tqdm\n"
     ]
    }
   ],
   "source": [
    "import os\n",
    "import pandas as pd\n",
    "import pyarrow.fs as fs\n",
    "import s3fs\n",
    "import tempfile\n",
    "import torch\n",
    "from transformers import BertTokenizer, BertForSequenceClassification, Trainer, TrainingArguments\n",
    "from torch.utils.data import Dataset"
   ]
  },
  {
   "cell_type": "code",
   "execution_count": 2,
   "id": "953b1c87",
   "metadata": {},
   "outputs": [],
   "source": [
    "# Data manipulation\n",
    "import pandas as pd\n",
    "import numpy as np\n",
    "\n",
    "# Tokenization and model\n",
    "from transformers import (\n",
    "    BertTokenizer,\n",
    "    BertForSequenceClassification,\n",
    "    Trainer,\n",
    "    TrainingArguments\n",
    ")\n",
    "\n",
    "# Torch core\n",
    "import torch\n",
    "from torch.utils.data import Dataset, DataLoader, random_split\n",
    "\n",
    "# Metrics (optional)\n",
    "from sklearn.metrics import accuracy_score, precision_recall_fscore_support\n",
    "\n",
    "# To ensure reproducibility\n",
    "import random\n",
    "import os\n"
   ]
  },
  {
   "cell_type": "code",
   "execution_count": 6,
   "id": "fff216f6",
   "metadata": {},
   "outputs": [],
   "source": [
    "# Define column names\n",
    "column_names = ['tweet_id', 'entity', 'sentiment', 'text']\n",
    "\n",
    "# Load and clean training data\n",
    "df_train = pd.read_csv(\"/home/onyxia/work/Sentiment-analysis-MEPPDS/data/twitter_training.csv\", header=None, names=column_names)\n",
    "df_train = df_train.dropna(subset=['sentiment', 'text'])  # Drop rows with missing data\n",
    "df_train['sentiment'] = df_train['sentiment'].str.strip().str.lower()\n",
    "df_train = df_train[df_train['sentiment'].isin(['negative', 'neutral', 'positive'])]\n",
    "df_train['label'] = df_train['sentiment'].map({'negative': 0, 'neutral': 1, 'positive': 2}).astype(int)\n",
    "\n",
    "# Load and clean validation data\n",
    "df_validation = pd.read_csv(\"/home/onyxia/work/Sentiment-analysis-MEPPDS/data/twitter_validation.csv\", header=None, names=column_names)\n",
    "df_validation = df_validation.dropna(subset=['sentiment', 'text'])\n",
    "df_validation['sentiment'] = df_validation['sentiment'].str.strip().str.lower()\n",
    "df_validation = df_validation[df_validation['sentiment'].isin(['negative', 'neutral', 'positive'])]\n",
    "df_validation['label'] = df_validation['sentiment'].map({'negative': 0, 'neutral': 1, 'positive': 2}).astype(int)\n"
   ]
  },
  {
   "cell_type": "code",
   "execution_count": 7,
   "id": "7bca309f",
   "metadata": {},
   "outputs": [],
   "source": [
    "tokenizer = BertTokenizer.from_pretrained(\"bert-base-uncased\")"
   ]
  },
  {
   "cell_type": "code",
   "execution_count": 8,
   "id": "17dc6cf0",
   "metadata": {},
   "outputs": [
    {
     "name": "stdout",
     "output_type": "stream",
     "text": [
      "0    im getting on borderlands and i will murder yo...\n",
      "1    I am coming to the borders and I will kill you...\n",
      "2    im getting on borderlands and i will kill you ...\n",
      "3    im coming on borderlands and i will murder you...\n",
      "4    im getting on borderlands 2 and i will murder ...\n",
      "Name: text, dtype: object\n"
     ]
    }
   ],
   "source": [
    "print(df_train['text'].head())  # Check the first few entries\n",
    "df_train['text'] = df_train['text'].fillna('')  # or df_train['text'].dropna()\n"
   ]
  },
  {
   "cell_type": "code",
   "execution_count": 9,
   "id": "22c1fc34",
   "metadata": {},
   "outputs": [],
   "source": [
    "# Ensure 'text' column is in list format\n",
    "encodings_train = tokenizer(df_train['text'].tolist(), truncation=True, padding=True, max_length=128)\n",
    "encodings_validation = tokenizer(df_validation['text'].tolist(), truncation=True, padding=True, max_length=128)\n"
   ]
  },
  {
   "cell_type": "code",
   "execution_count": 10,
   "id": "17bd2458",
   "metadata": {},
   "outputs": [],
   "source": [
    "class TweetDataset(torch.utils.data.Dataset):\n",
    "    def __init__(self, encodings, labels):\n",
    "        self.encodings = encodings\n",
    "        self.labels = labels\n",
    "\n",
    "    def __getitem__(self, idx):\n",
    "        return {\n",
    "            key: torch.tensor(val[idx]) for key, val in self.encodings.items()\n",
    "        } | {'labels': torch.tensor(self.labels[idx])}\n",
    "\n",
    "    def __len__(self):\n",
    "        return len(self.labels)\n",
    "\n",
    "train = TweetDataset(encodings_train, df_train['label'].tolist())\n",
    "validation = TweetDataset(encodings_validation, df_validation['label'].tolist())"
   ]
  },
  {
   "cell_type": "code",
   "execution_count": 12,
   "id": "ea577bd4",
   "metadata": {},
   "outputs": [
    {
     "name": "stderr",
     "output_type": "stream",
     "text": [
      "Some weights of BertForSequenceClassification were not initialized from the model checkpoint at bert-base-uncased and are newly initialized: ['classifier.bias', 'classifier.weight']\n",
      "You should probably TRAIN this model on a down-stream task to be able to use it for predictions and inference.\n"
     ]
    }
   ],
   "source": [
    "model = BertForSequenceClassification.from_pretrained(\"bert-base-uncased\", num_labels=3)\n"
   ]
  },
  {
   "cell_type": "code",
   "execution_count": 15,
   "id": "3b074222",
   "metadata": {},
   "outputs": [],
   "source": [
    "for param in model.bert.parameters():\n",
    "    param.requires_grad = False\n"
   ]
  },
  {
   "cell_type": "code",
   "execution_count": 16,
   "id": "b0278bfd",
   "metadata": {},
   "outputs": [],
   "source": [
    "for name, param in model.bert.named_parameters():\n",
    "    if not name.startswith(\"encoder.layer.11\") and not name.startswith(\"encoder.layer.10\"):\n",
    "        param.requires_grad = False\n"
   ]
  },
  {
   "cell_type": "code",
   "execution_count": null,
   "id": "c8f04fe9",
   "metadata": {},
   "outputs": [
    {
     "data": {
      "text/html": [
       "\n",
       "    <div>\n",
       "      \n",
       "      <progress value='56' max='11463' style='width:300px; height:20px; vertical-align: middle;'></progress>\n",
       "      [   56/11463 00:51 < 3:01:19, 1.05 it/s, Epoch 0.01/3]\n",
       "    </div>\n",
       "    <table border=\"1\" class=\"dataframe\">\n",
       "  <thead>\n",
       " <tr style=\"text-align: left;\">\n",
       "      <th>Step</th>\n",
       "      <th>Training Loss</th>\n",
       "    </tr>\n",
       "  </thead>\n",
       "  <tbody>\n",
       "  </tbody>\n",
       "</table><p>"
      ],
      "text/plain": [
       "<IPython.core.display.HTML object>"
      ]
     },
     "metadata": {},
     "output_type": "display_data"
    }
   ],
   "source": [
    "from transformers import TrainingArguments\n",
    "\n",
    "training_args = TrainingArguments(\n",
    "    output_dir=\"./results\",\n",
    "    num_train_epochs=3,\n",
    "    per_device_train_batch_size=16,\n",
    "    per_device_eval_batch_size=64,\n",
    ")\n",
    "\n",
    "trainer = Trainer(\n",
    "    model=model,\n",
    "    args=training_args,\n",
    "    train_dataset=train,\n",
    "    eval_dataset=validation,\n",
    ")\n",
    "\n",
    "trainer.train()"
   ]
  },
  {
   "cell_type": "code",
   "execution_count": null,
   "id": "182b6854",
   "metadata": {},
   "outputs": [],
   "source": [
    "preds = trainer.predict(test_dataset)\n",
    "predicted_labels = preds.predictions.argmax(-1)\n"
   ]
  }
 ],
 "metadata": {
  "kernelspec": {
   "display_name": "sentiment",
   "language": "python",
   "name": "python3"
  },
  "language_info": {
   "codemirror_mode": {
    "name": "ipython",
    "version": 3
   },
   "file_extension": ".py",
   "mimetype": "text/x-python",
   "name": "python",
   "nbconvert_exporter": "python",
   "pygments_lexer": "ipython3",
   "version": "3.11.12"
  }
 },
 "nbformat": 4,
 "nbformat_minor": 5
}
